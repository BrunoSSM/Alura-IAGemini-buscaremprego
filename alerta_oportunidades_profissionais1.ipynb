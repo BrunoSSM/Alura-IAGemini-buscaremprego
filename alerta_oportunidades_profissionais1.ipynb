{
  "cells": [
    {
      "cell_type": "markdown",
      "metadata": {
        "id": "view-in-github",
        "colab_type": "text"
      },
      "source": [
        "<a href=\"https://colab.research.google.com/github/BrunoSSM/Alura-IAGemini-buscaremprego/blob/main/alerta_oportunidades_profissionais1.ipynb\" target=\"_parent\"><img src=\"https://colab.research.google.com/assets/colab-badge.svg\" alt=\"Open In Colab\"/></a>"
      ]
    },
    {
      "cell_type": "markdown",
      "id": "0e4c3178",
      "metadata": {
        "id": "0e4c3178"
      },
      "source": [
        "# 🤖 Projeto: Alerta de Oportunidades Profissionais com Gemini e Agentes\n",
        "Este projeto usa agentes Gemini para buscar notícias sobre oportunidades profissionais, filtrar as mais relevantes, gerar alertas e sugerir ações para o usuário.\n",
        "\n"
      ]
    },
    {
      "cell_type": "code",
      "execution_count": 1,
      "id": "0520afc5",
      "metadata": {
        "colab": {
          "base_uri": "https://localhost:8080/"
        },
        "id": "0520afc5",
        "outputId": "843c1d2e-7c5f-40b7-c551-c090f1931c5d"
      },
      "outputs": [
        {
          "output_type": "stream",
          "name": "stdout",
          "text": [
            "\u001b[2K   \u001b[90m━━━━━━━━━━━━━━━━━━━━━━━━━━━━━━━━━━━━━━━━\u001b[0m \u001b[32m1.2/1.2 MB\u001b[0m \u001b[31m16.1 MB/s\u001b[0m eta \u001b[36m0:00:00\u001b[0m\n",
            "\u001b[2K   \u001b[90m━━━━━━━━━━━━━━━━━━━━━━━━━━━━━━━━━━━━━━━━\u001b[0m \u001b[32m232.1/232.1 kB\u001b[0m \u001b[31m14.2 MB/s\u001b[0m eta \u001b[36m0:00:00\u001b[0m\n",
            "\u001b[2K   \u001b[90m━━━━━━━━━━━━━━━━━━━━━━━━━━━━━━━━━━━━━━━━\u001b[0m \u001b[32m95.2/95.2 kB\u001b[0m \u001b[31m7.1 MB/s\u001b[0m eta \u001b[36m0:00:00\u001b[0m\n",
            "\u001b[2K   \u001b[90m━━━━━━━━━━━━━━━━━━━━━━━━━━━━━━━━━━━━━━━━\u001b[0m \u001b[32m217.1/217.1 kB\u001b[0m \u001b[31m13.9 MB/s\u001b[0m eta \u001b[36m0:00:00\u001b[0m\n",
            "\u001b[2K   \u001b[90m━━━━━━━━━━━━━━━━━━━━━━━━━━━━━━━━━━━━━━━━\u001b[0m \u001b[32m334.1/334.1 kB\u001b[0m \u001b[31m20.8 MB/s\u001b[0m eta \u001b[36m0:00:00\u001b[0m\n",
            "\u001b[2K   \u001b[90m━━━━━━━━━━━━━━━━━━━━━━━━━━━━━━━━━━━━━━━━\u001b[0m \u001b[32m125.1/125.1 kB\u001b[0m \u001b[31m7.0 MB/s\u001b[0m eta \u001b[36m0:00:00\u001b[0m\n",
            "\u001b[2K   \u001b[90m━━━━━━━━━━━━━━━━━━━━━━━━━━━━━━━━━━━━━━━━\u001b[0m \u001b[32m65.8/65.8 kB\u001b[0m \u001b[31m4.2 MB/s\u001b[0m eta \u001b[36m0:00:00\u001b[0m\n",
            "\u001b[2K   \u001b[90m━━━━━━━━━━━━━━━━━━━━━━━━━━━━━━━━━━━━━━━━\u001b[0m \u001b[32m119.0/119.0 kB\u001b[0m \u001b[31m8.1 MB/s\u001b[0m eta \u001b[36m0:00:00\u001b[0m\n",
            "\u001b[2K   \u001b[90m━━━━━━━━━━━━━━━━━━━━━━━━━━━━━━━━━━━━━━━━\u001b[0m \u001b[32m194.9/194.9 kB\u001b[0m \u001b[31m12.3 MB/s\u001b[0m eta \u001b[36m0:00:00\u001b[0m\n",
            "\u001b[2K   \u001b[90m━━━━━━━━━━━━━━━━━━━━━━━━━━━━━━━━━━━━━━━━\u001b[0m \u001b[32m62.5/62.5 kB\u001b[0m \u001b[31m3.5 MB/s\u001b[0m eta \u001b[36m0:00:00\u001b[0m\n",
            "\u001b[2K   \u001b[90m━━━━━━━━━━━━━━━━━━━━━━━━━━━━━━━━━━━━━━━━\u001b[0m \u001b[32m103.3/103.3 kB\u001b[0m \u001b[31m7.8 MB/s\u001b[0m eta \u001b[36m0:00:00\u001b[0m\n",
            "\u001b[2K   \u001b[90m━━━━━━━━━━━━━━━━━━━━━━━━━━━━━━━━━━━━━━━━\u001b[0m \u001b[32m44.4/44.4 kB\u001b[0m \u001b[31m2.6 MB/s\u001b[0m eta \u001b[36m0:00:00\u001b[0m\n",
            "\u001b[2K   \u001b[90m━━━━━━━━━━━━━━━━━━━━━━━━━━━━━━━━━━━━━━━━\u001b[0m \u001b[32m72.0/72.0 kB\u001b[0m \u001b[31m4.6 MB/s\u001b[0m eta \u001b[36m0:00:00\u001b[0m\n",
            "\u001b[?25h"
          ]
        }
      ],
      "source": [
        "# Instalar dependências\n",
        "%pip install -q google-genai google-adk"
      ]
    },
    {
      "cell_type": "code",
      "execution_count": 2,
      "id": "f6f1a54a",
      "metadata": {
        "id": "f6f1a54a"
      },
      "outputs": [],
      "source": [
        "# Configuração da API do Gemini\n",
        "import os\n",
        "from google.colab import userdata\n",
        "from google import genai\n",
        "\n",
        "os.environ[\"GOOGLE_API_KEY\"] = userdata.get('GOOGLE_API_KEY')\n",
        "client = genai.Client()\n",
        "MODEL_ID = \"gemini-2.0-flash\"\n"
      ]
    },
    {
      "cell_type": "code",
      "execution_count": 3,
      "id": "4f49e9b9",
      "metadata": {
        "id": "4f49e9b9"
      },
      "outputs": [],
      "source": [
        "# Importações principais\n",
        "from google.adk.agents import Agent\n",
        "from google.adk.runners import Runner\n",
        "from google.adk.sessions import InMemorySessionService\n",
        "from google.adk.tools import google_search\n",
        "from google.genai import types\n",
        "from datetime import date\n",
        "from IPython.display import Markdown, display\n",
        "import textwrap\n",
        "\n",
        "def call_agent(agent: Agent, message_text: str) -> str:\n",
        "    session_service = InMemorySessionService()\n",
        "    session = session_service.create_session(app_name=agent.name, user_id=\"user1\", session_id=\"session1\")\n",
        "    runner = Runner(agent=agent, app_name=agent.name, session_service=session_service)\n",
        "    content = types.Content(role=\"user\", parts=[types.Part(text=message_text)])\n",
        "    final_response = \"\"\n",
        "    for event in runner.run(user_id=\"user1\", session_id=\"session1\", new_message=content):\n",
        "        if event.is_final_response():\n",
        "            for part in event.content.parts:\n",
        "                if part.text:\n",
        "                    final_response += part.text + \"\\n\"\n",
        "    return final_response\n",
        "\n",
        "def to_markdown(text):\n",
        "    text = text.replace('•', '  *')\n",
        "    return Markdown(textwrap.indent(text, '> ', predicate=lambda _: True))\n"
      ]
    },
    {
      "cell_type": "code",
      "execution_count": 4,
      "id": "4087a1ca",
      "metadata": {
        "id": "4087a1ca"
      },
      "outputs": [],
      "source": [
        "# Agente: Busca oportunidades\n",
        "def agente_buscador_oportunidades(area, data_de_hoje):\n",
        "    buscador = Agent(\n",
        "        name=\"agente_oportunidades\",\n",
        "        model=\"gemini-2.0-flash\",\n",
        "        instruction=\"\"\"\n",
        "Você é um agente que busca notícias sobre oportunidades de trabalho, bolsas de estudo, concursos públicos e programas de aceleração relacionados à área abaixo.\n",
        "Busque as informações mais recentes, com no máximo 30 dias.\n",
        "Selecione as 3 a 5 mais relevantes.\n",
        "\"\"\",\n",
        "        description=\"Busca oportunidades profissionais recentes\",\n",
        "        tools=[google_search]\n",
        "    )\n",
        "    entrada = f\"Área: {area}\\nData: {data_de_hoje}\"\n",
        "    return call_agent(buscador, entrada)\n"
      ]
    },
    {
      "cell_type": "code",
      "execution_count": 5,
      "id": "b65687a9",
      "metadata": {
        "id": "b65687a9"
      },
      "outputs": [],
      "source": [
        "# Agente: Gera plano de ação\n",
        "def agente_estrategista(area, oportunidades_texto):\n",
        "    estrategista = Agent(\n",
        "        name=\"agente_estrategista\",\n",
        "        model=\"gemini-2.0-flash\",\n",
        "        instruction=\"\"\"\n",
        "Você é um estrategista de carreira.\n",
        "Com base nas oportunidades listadas abaixo, elabore um pequeno plano de ação para que o usuário possa se preparar ou se inscrever em cada uma delas.\n",
        "\"\"\",\n",
        "        description=\"Gera estratégias baseadas em oportunidades\"\n",
        "    )\n",
        "    entrada = f\"Área: {area}\\nOportunidades:\\n{oportunidades_texto}\"\n",
        "    return call_agent(estrategista, entrada)\n"
      ]
    },
    {
      "cell_type": "code",
      "execution_count": 6,
      "id": "ac7d8a92",
      "metadata": {
        "colab": {
          "base_uri": "https://localhost:8080/",
          "height": 1000
        },
        "id": "ac7d8a92",
        "outputId": "d890d658-12e6-47a4-f136-0095b31705a4"
      },
      "outputs": [
        {
          "output_type": "stream",
          "name": "stdout",
          "text": [
            "Digite sua área de interesse profissional (ex: tecnologia, saúde, educação): Segurança da informação \n",
            "🔍 Buscando oportunidades...\n"
          ]
        },
        {
          "output_type": "display_data",
          "data": {
            "text/plain": [
              "<IPython.core.display.Markdown object>"
            ],
            "text/markdown": "### 📰 Oportunidades encontradas:"
          },
          "metadata": {}
        },
        {
          "output_type": "display_data",
          "data": {
            "text/plain": [
              "<IPython.core.display.Markdown object>"
            ],
            "text/markdown": "> Para encontrar oportunidades recentes na área de Segurança da Informação, vou realizar algumas pesquisas direcionadas.\n> \n> \n> Com base nas pesquisas realizadas, encontrei as seguintes oportunidades e informações relevantes na área de Segurança da Informação:\n> \n> 1.  **Bolsa de Estudos - Pós-Graduação em Segurança da Informação - CECyber:** A CECyber está oferecendo bolsas de estudos totais e parciais para a pós-graduação em Segurança da Informação e Inteligência Defensiva com início em Junho de 2025. As inscrições estão abertas de 01/04/2025 a 09/05/2025. ([1])\n> \n> 2.  **Concurso Público 1/2025 - Tribunal de Justiça Militar:** Este concurso oferece 2 vagas para analista de segurança da informação judiciário, além de outras vagas na área de TI. ([2])\n> \n> 3.  **Vaga para Analista de Tecnologia da Informação - Segurança da Informação - PPSA - 2025:** Há uma vaga para Analista de Tecnologia da Informação com foco em Segurança da Informação na PPSA (Pré-Sal Petróleo) com edital nº 1 para 2025. ([7])\n> \n> 4.  **Concursos TI - Editais Publicados e Iminentes:** O Blog Gran Cursos Online divulgou em 08/04/2025 informações sobre concursos na área de TI com editais já publicados e outros previstos. O Tribunal de Justiça do Estado do Rio de Janeiro (TJ RJ) deve ofertar vagas para Analista de Segurança da Informação. Além disso, o Banco do Estado do Rio Grande do Sul (Banrisul) publicou edital para profissionais da área de Tecnologia da Informação, com 100 vagas de nível superior. ([8])\n> \n> 5.  **Oportunidades no Portal do Servidor - GOV.BR:** O Portal do Servidor oferece vagas de nível superior na área de Privacidade e Segurança da Informação para servidores públicos estáveis. ([4])\n> \n> Além disso, vale a pena conferir:\n> \n> *   **Concursos 2025 (Blog Gran Cursos Online):** Levantamento com mais de 600 editais previstos em diversas carreiras, incluindo 2.732 vagas para Tecnologia da Informação. ([12])\n> *   **Programa de Aceleração Espaço Finep:** Programa de aceleração para startups, com espaço físico disponibilizado pela Finep no Rio de Janeiro. As startups aceleradas obrigam-se a obedecer, cumprir e fazer com que os seus colaboradores observem e cumpram, com absoluto rigor, o Código de Ética, Conduta e Integridade da Finep, as normas internas desta empresa pública, em especial aquelas relacionadas à ética, integridade e segurança da informação. ([17])\n> *   **Analista de Privacidade e Analista de Cibersegurança em alta (Forbes):** O LinkedIn divulgou as 25 posições que tiveram maior crescimento de demanda nos últimos cinco anos, incluindo Analista de Privacidade e Analista de Cibersegurança. ([10])\n> \n> É importante verificar os requisitos de cada oportunidade e os prazos de inscrição para garantir a participação nos processos seletivos.\n> \n"
          },
          "metadata": {}
        },
        {
          "output_type": "stream",
          "name": "stdout",
          "text": [
            "🧠 Gerando plano de ação...\n"
          ]
        },
        {
          "output_type": "display_data",
          "data": {
            "text/plain": [
              "<IPython.core.display.Markdown object>"
            ],
            "text/markdown": "### 📌 Plano de Ação Recomendado:"
          },
          "metadata": {}
        },
        {
          "output_type": "display_data",
          "data": {
            "text/plain": [
              "<IPython.core.display.Markdown object>"
            ],
            "text/markdown": "> ## Plano de Ação Estratégico para Oportunidades em Segurança da Informação (2025)\n> \n> Com base nas oportunidades identificadas, sugiro o seguinte plano de ação para te preparar e maximizar suas chances de sucesso:\n> \n> **1. Bolsa de Estudos - Pós-Graduação em Segurança da Informação - CECyber:**\n> \n> *   **Ação Imediata:** Analisar detalhadamente o edital da bolsa da CECyber. Verificar os critérios de elegibilidade, documentação necessária e os temas abordados na pós-graduação.\n> *   **Ação Contínua:**  Começar a reunir toda a documentação necessária. Se houver alguma lacuna em seu currículo que possa ser um diferencial (ex: certificações, projetos, experiência), investir em melhorar esses pontos.\n> *   **Ação de Preparação:** Se a bolsa exigir alguma prova ou entrevista, buscar materiais de estudo e praticar entrevistas.\n> *   **Prazo Final:** Inscrever-se até 09/05/2025.\n> \n> **2. Concurso Público 1/2025 - Tribunal de Justiça Militar:**\n> \n> *   **Ação Imediata:** Analisar o edital do concurso do Tribunal de Justiça Militar. Identificar o conteúdo programático específico para o cargo de Analista de Segurança da Informação Judiciário.\n> *   **Ação Contínua:** Montar um plano de estudos focado no conteúdo do edital. Priorizar as áreas de maior peso na prova. Utilizar materiais de estudo como livros, cursos online e questões de concursos anteriores.\n> *   **Ação de Preparação:** Resolver questões de concursos anteriores da banca organizadora (se conhecida). Fazer simulados para testar seus conhecimentos e identificar áreas que precisam de mais estudo.\n> *   **Ação de Preparação:** Se preparar para o TAF (Teste de Aptidão Física) caso haja no concurso.\n> *   **Prazo:** Acompanhar as datas de inscrição e prova do concurso.\n> \n> **3. Vaga para Analista de Tecnologia da Informação - Segurança da Informação - PPSA - 2025:**\n> \n> *   **Ação Imediata:** Analisar o edital nº 1/2025 da PPSA para o cargo de Analista de TI com foco em Segurança da Informação. Verificar os requisitos, atribuições e o processo seletivo.\n> *   **Ação Contínua:** Atualizar seu currículo com as habilidades e experiências relevantes para a vaga. Preparar uma carta de apresentação destacando suas qualificações e o seu interesse pela PPSA.\n> *   **Ação de Preparação:** Pesquisar sobre a PPSA e o setor de petróleo e gás. Estudar os temas técnicos relacionados à segurança da informação em ambientes de infraestrutura crítica.\n> *   **Prazo:** Acompanhar as datas de inscrição e processo seletivo da PPSA.\n> \n> **4. Concursos TI - Editais Publicados e Iminentes (TJ RJ e Banrisul):**\n> \n> *   **Ação Imediata:** Acessar os editais do TJ RJ (quando publicado) e do Banrisul. Analisar os requisitos, conteúdo programático e as etapas dos concursos.\n> *   **Ação Contínua:** Seguir as ações de preparação para concursos descritas no item 2, adaptando-as para os conteúdos específicos de cada concurso.\n> *   **Prazo:** Acompanhar as datas de inscrição e prova de cada concurso.\n> \n> **5. Oportunidades no Portal do Servidor - GOV.BR:**\n> \n> *   **Ação Imediata:** Acessar o Portal do Servidor e verificar as vagas disponíveis na área de Privacidade e Segurança da Informação.\n> *   **Ação Contínua:** Manter seu currículo atualizado no Portal do Servidor.\n> *   **Prazo:** Monitorar o Portal do Servidor regularmente.\n> \n> **Ações Complementares:**\n> \n> *   **Concursos 2025 (Blog Gran Cursos Online):** Consultar o levantamento do Gran Cursos Online para identificar outros concursos na área de TI que possam ser do seu interesse.\n> *   **Programa de Aceleração Espaço Finep:** Se você tem uma startup na área de segurança da informação, considerar participar do programa de aceleração da Finep.\n> *   **Analista de Privacidade e Analista de Cibersegurança em alta (Forbes):** Continuar se atualizando sobre as tendências do mercado de trabalho na área de segurança da informação, com foco nas áreas de privacidade e cibersegurança.\n> \n> **Dicas Gerais:**\n> \n> *   **Networking:** Participe de eventos, grupos de discussão e fóruns online sobre segurança da informação.\n> *   **Certificações:** Considere obter certificações relevantes na área de segurança da informação.\n> *   **Projetos Pessoais:** Desenvolva projetos pessoais na área de segurança da informação para demonstrar suas habilidades e conhecimentos.\n> \n> Lembre-se que este é um plano de ação inicial. É importante adaptá-lo às suas necessidades e objetivos específicos. Boa sorte!\n> \n"
          },
          "metadata": {}
        }
      ],
      "source": [
        "# Executa o sistema\n",
        "area = input(\"Digite sua área de interesse profissional (ex: tecnologia, saúde, educação): \")\n",
        "data_hoje = date.today().strftime(\"%d/%m/%Y\")\n",
        "\n",
        "if not area:\n",
        "    print(\"⚠️ Nenhuma área informada.\")\n",
        "else:\n",
        "    print(\"🔍 Buscando oportunidades...\")\n",
        "    oportunidades = agente_buscador_oportunidades(area, data_hoje)\n",
        "    display(Markdown(\"### 📰 Oportunidades encontradas:\"))\n",
        "    display(to_markdown(oportunidades))\n",
        "\n",
        "    print(\"🧠 Gerando plano de ação...\")\n",
        "    plano = agente_estrategista(area, oportunidades)\n",
        "    display(Markdown(\"### 📌 Plano de Ação Recomendado:\"))\n",
        "    display(to_markdown(plano))\n"
      ]
    }
  ],
  "metadata": {
    "colab": {
      "provenance": [],
      "include_colab_link": true
    },
    "language_info": {
      "name": "python"
    },
    "kernelspec": {
      "name": "python3",
      "display_name": "Python 3"
    }
  },
  "nbformat": 4,
  "nbformat_minor": 5
}